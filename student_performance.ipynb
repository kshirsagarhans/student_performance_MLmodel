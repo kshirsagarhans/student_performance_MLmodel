{
 "cells": [
  {
   "cell_type": "markdown",
   "id": "a9c720f2-2fd9-4772-9046-6e9508385a46",
   "metadata": {},
   "source": [
    "# Machine Learning Model Application on Student Performance\n"
   ]
  },
  {
   "cell_type": "markdown",
   "id": "146a78c0-5ddc-458b-bb0f-c0765b57810c",
   "metadata": {},
   "source": [
    "In this Project we are applying a machine learning model to analyze student performance based on various factors like gender, ethnicity, parental education level, lunch, and test preparation courses. \n",
    "The libraries that I have imported NumPy,Pandas,matplotlib and Seaborn. Also I have used modelling libraries from sklearn.."
   ]
  },
  {
   "cell_type": "markdown",
   "id": "fd13782f-e416-4281-a629-cca99f9ee47e",
   "metadata": {},
   "source": [
    "This project follows a Machine Learning Lifecycle, which includes:\n",
    "Understanding the problem statement->\n",
    "Collecting and checking data->\n",
    "Performing exploratory data analysis (EDA)->\n",
    "Preprocessing the data->\n",
    "Training machine learning models->\n",
    "Selecting the best-performing model"
   ]
  },
  {
   "cell_type": "code",
   "execution_count": 1,
   "id": "e48d441e-162e-49d4-adae-a1358ebf1eda",
   "metadata": {},
   "outputs": [],
   "source": [
    "import pandas as pd\n",
    "import numpy as np\n",
    "import matplotlib.pyplot as mtplt\n",
    "import seaborn as sb"
   ]
  },
  {
   "cell_type": "code",
   "execution_count": 2,
   "id": "13d48281-b12d-447a-935f-6e95dc093764",
   "metadata": {},
   "outputs": [],
   "source": [
    "from sklearn.metrics import root_mean_squared_error,r2_score\n",
    "from sklearn.metrics import r2_score,mean_absolute_error,mean_squared_error\n",
    "from sklearn.neighbors import KNeighborsRegressor\n",
    "from sklearn.tree import DecisionTreeRegressor\n",
    "from sklearn.ensemble import RandomForestRegressor,AdaBoostRegressor\n",
    "from sklearn.linear_model import LinearRegression,Ridge,Lasso\n",
    "from sklearn.model_selection import RandomizedSearchCV\n",
    "import warnings"
   ]
  },
  {
   "cell_type": "code",
   "execution_count": 3,
   "id": "07aadc5b-dda1-428f-9c63-360bc31c3e70",
   "metadata": {},
   "outputs": [],
   "source": [
    "df=pd.read_csv(\"/Users/hansrajkshirsagar/Downloads/StudentsPerformance.csv\") #path "
   ]
  },
  {
   "cell_type": "code",
   "execution_count": 4,
   "id": "bff30a6e-fdbd-4f34-934b-7865df2c8b8d",
   "metadata": {},
   "outputs": [
    {
     "data": {
      "text/html": [
       "<div>\n",
       "<style scoped>\n",
       "    .dataframe tbody tr th:only-of-type {\n",
       "        vertical-align: middle;\n",
       "    }\n",
       "\n",
       "    .dataframe tbody tr th {\n",
       "        vertical-align: top;\n",
       "    }\n",
       "\n",
       "    .dataframe thead th {\n",
       "        text-align: right;\n",
       "    }\n",
       "</style>\n",
       "<table border=\"1\" class=\"dataframe\">\n",
       "  <thead>\n",
       "    <tr style=\"text-align: right;\">\n",
       "      <th></th>\n",
       "      <th>gender</th>\n",
       "      <th>race/ethnicity</th>\n",
       "      <th>parental level of education</th>\n",
       "      <th>lunch</th>\n",
       "      <th>test preparation course</th>\n",
       "      <th>math score</th>\n",
       "      <th>reading score</th>\n",
       "      <th>writing score</th>\n",
       "    </tr>\n",
       "  </thead>\n",
       "  <tbody>\n",
       "    <tr>\n",
       "      <th>0</th>\n",
       "      <td>female</td>\n",
       "      <td>group B</td>\n",
       "      <td>bachelor's degree</td>\n",
       "      <td>standard</td>\n",
       "      <td>none</td>\n",
       "      <td>72</td>\n",
       "      <td>72</td>\n",
       "      <td>74</td>\n",
       "    </tr>\n",
       "    <tr>\n",
       "      <th>1</th>\n",
       "      <td>female</td>\n",
       "      <td>group C</td>\n",
       "      <td>some college</td>\n",
       "      <td>standard</td>\n",
       "      <td>completed</td>\n",
       "      <td>69</td>\n",
       "      <td>90</td>\n",
       "      <td>88</td>\n",
       "    </tr>\n",
       "    <tr>\n",
       "      <th>2</th>\n",
       "      <td>female</td>\n",
       "      <td>group B</td>\n",
       "      <td>master's degree</td>\n",
       "      <td>standard</td>\n",
       "      <td>none</td>\n",
       "      <td>90</td>\n",
       "      <td>95</td>\n",
       "      <td>93</td>\n",
       "    </tr>\n",
       "    <tr>\n",
       "      <th>3</th>\n",
       "      <td>male</td>\n",
       "      <td>group A</td>\n",
       "      <td>associate's degree</td>\n",
       "      <td>free/reduced</td>\n",
       "      <td>none</td>\n",
       "      <td>47</td>\n",
       "      <td>57</td>\n",
       "      <td>44</td>\n",
       "    </tr>\n",
       "    <tr>\n",
       "      <th>4</th>\n",
       "      <td>male</td>\n",
       "      <td>group C</td>\n",
       "      <td>some college</td>\n",
       "      <td>standard</td>\n",
       "      <td>none</td>\n",
       "      <td>76</td>\n",
       "      <td>78</td>\n",
       "      <td>75</td>\n",
       "    </tr>\n",
       "    <tr>\n",
       "      <th>...</th>\n",
       "      <td>...</td>\n",
       "      <td>...</td>\n",
       "      <td>...</td>\n",
       "      <td>...</td>\n",
       "      <td>...</td>\n",
       "      <td>...</td>\n",
       "      <td>...</td>\n",
       "      <td>...</td>\n",
       "    </tr>\n",
       "    <tr>\n",
       "      <th>995</th>\n",
       "      <td>female</td>\n",
       "      <td>group E</td>\n",
       "      <td>master's degree</td>\n",
       "      <td>standard</td>\n",
       "      <td>completed</td>\n",
       "      <td>88</td>\n",
       "      <td>99</td>\n",
       "      <td>95</td>\n",
       "    </tr>\n",
       "    <tr>\n",
       "      <th>996</th>\n",
       "      <td>male</td>\n",
       "      <td>group C</td>\n",
       "      <td>high school</td>\n",
       "      <td>free/reduced</td>\n",
       "      <td>none</td>\n",
       "      <td>62</td>\n",
       "      <td>55</td>\n",
       "      <td>55</td>\n",
       "    </tr>\n",
       "    <tr>\n",
       "      <th>997</th>\n",
       "      <td>female</td>\n",
       "      <td>group C</td>\n",
       "      <td>high school</td>\n",
       "      <td>free/reduced</td>\n",
       "      <td>completed</td>\n",
       "      <td>59</td>\n",
       "      <td>71</td>\n",
       "      <td>65</td>\n",
       "    </tr>\n",
       "    <tr>\n",
       "      <th>998</th>\n",
       "      <td>female</td>\n",
       "      <td>group D</td>\n",
       "      <td>some college</td>\n",
       "      <td>standard</td>\n",
       "      <td>completed</td>\n",
       "      <td>68</td>\n",
       "      <td>78</td>\n",
       "      <td>77</td>\n",
       "    </tr>\n",
       "    <tr>\n",
       "      <th>999</th>\n",
       "      <td>female</td>\n",
       "      <td>group D</td>\n",
       "      <td>some college</td>\n",
       "      <td>free/reduced</td>\n",
       "      <td>none</td>\n",
       "      <td>77</td>\n",
       "      <td>86</td>\n",
       "      <td>86</td>\n",
       "    </tr>\n",
       "  </tbody>\n",
       "</table>\n",
       "<p>1000 rows × 8 columns</p>\n",
       "</div>"
      ],
      "text/plain": [
       "     gender race/ethnicity parental level of education         lunch  \\\n",
       "0    female        group B           bachelor's degree      standard   \n",
       "1    female        group C                some college      standard   \n",
       "2    female        group B             master's degree      standard   \n",
       "3      male        group A          associate's degree  free/reduced   \n",
       "4      male        group C                some college      standard   \n",
       "..      ...            ...                         ...           ...   \n",
       "995  female        group E             master's degree      standard   \n",
       "996    male        group C                 high school  free/reduced   \n",
       "997  female        group C                 high school  free/reduced   \n",
       "998  female        group D                some college      standard   \n",
       "999  female        group D                some college  free/reduced   \n",
       "\n",
       "    test preparation course  math score  reading score  writing score  \n",
       "0                      none          72             72             74  \n",
       "1                 completed          69             90             88  \n",
       "2                      none          90             95             93  \n",
       "3                      none          47             57             44  \n",
       "4                      none          76             78             75  \n",
       "..                      ...         ...            ...            ...  \n",
       "995               completed          88             99             95  \n",
       "996                    none          62             55             55  \n",
       "997               completed          59             71             65  \n",
       "998               completed          68             78             77  \n",
       "999                    none          77             86             86  \n",
       "\n",
       "[1000 rows x 8 columns]"
      ]
     },
     "execution_count": 4,
     "metadata": {},
     "output_type": "execute_result"
    }
   ],
   "source": [
    "df"
   ]
  },
  {
   "cell_type": "code",
   "execution_count": 5,
   "id": "8b366c7d-2024-4cc2-8337-b5b9feefb261",
   "metadata": {},
   "outputs": [
    {
     "data": {
      "text/html": [
       "<div>\n",
       "<style scoped>\n",
       "    .dataframe tbody tr th:only-of-type {\n",
       "        vertical-align: middle;\n",
       "    }\n",
       "\n",
       "    .dataframe tbody tr th {\n",
       "        vertical-align: top;\n",
       "    }\n",
       "\n",
       "    .dataframe thead th {\n",
       "        text-align: right;\n",
       "    }\n",
       "</style>\n",
       "<table border=\"1\" class=\"dataframe\">\n",
       "  <thead>\n",
       "    <tr style=\"text-align: right;\">\n",
       "      <th></th>\n",
       "      <th>gender</th>\n",
       "      <th>race/ethnicity</th>\n",
       "      <th>parental level of education</th>\n",
       "      <th>lunch</th>\n",
       "      <th>test preparation course</th>\n",
       "      <th>math score</th>\n",
       "      <th>reading score</th>\n",
       "      <th>writing score</th>\n",
       "    </tr>\n",
       "  </thead>\n",
       "  <tbody>\n",
       "    <tr>\n",
       "      <th>0</th>\n",
       "      <td>female</td>\n",
       "      <td>group B</td>\n",
       "      <td>bachelor's degree</td>\n",
       "      <td>standard</td>\n",
       "      <td>none</td>\n",
       "      <td>72</td>\n",
       "      <td>72</td>\n",
       "      <td>74</td>\n",
       "    </tr>\n",
       "    <tr>\n",
       "      <th>1</th>\n",
       "      <td>female</td>\n",
       "      <td>group C</td>\n",
       "      <td>some college</td>\n",
       "      <td>standard</td>\n",
       "      <td>completed</td>\n",
       "      <td>69</td>\n",
       "      <td>90</td>\n",
       "      <td>88</td>\n",
       "    </tr>\n",
       "    <tr>\n",
       "      <th>2</th>\n",
       "      <td>female</td>\n",
       "      <td>group B</td>\n",
       "      <td>master's degree</td>\n",
       "      <td>standard</td>\n",
       "      <td>none</td>\n",
       "      <td>90</td>\n",
       "      <td>95</td>\n",
       "      <td>93</td>\n",
       "    </tr>\n",
       "    <tr>\n",
       "      <th>3</th>\n",
       "      <td>male</td>\n",
       "      <td>group A</td>\n",
       "      <td>associate's degree</td>\n",
       "      <td>free/reduced</td>\n",
       "      <td>none</td>\n",
       "      <td>47</td>\n",
       "      <td>57</td>\n",
       "      <td>44</td>\n",
       "    </tr>\n",
       "    <tr>\n",
       "      <th>4</th>\n",
       "      <td>male</td>\n",
       "      <td>group C</td>\n",
       "      <td>some college</td>\n",
       "      <td>standard</td>\n",
       "      <td>none</td>\n",
       "      <td>76</td>\n",
       "      <td>78</td>\n",
       "      <td>75</td>\n",
       "    </tr>\n",
       "  </tbody>\n",
       "</table>\n",
       "</div>"
      ],
      "text/plain": [
       "   gender race/ethnicity parental level of education         lunch  \\\n",
       "0  female        group B           bachelor's degree      standard   \n",
       "1  female        group C                some college      standard   \n",
       "2  female        group B             master's degree      standard   \n",
       "3    male        group A          associate's degree  free/reduced   \n",
       "4    male        group C                some college      standard   \n",
       "\n",
       "  test preparation course  math score  reading score  writing score  \n",
       "0                    none          72             72             74  \n",
       "1               completed          69             90             88  \n",
       "2                    none          90             95             93  \n",
       "3                    none          47             57             44  \n",
       "4                    none          76             78             75  "
      ]
     },
     "execution_count": 5,
     "metadata": {},
     "output_type": "execute_result"
    }
   ],
   "source": [
    "df.head()"
   ]
  },
  {
   "cell_type": "code",
   "execution_count": 6,
   "id": "a0583b7e-45e9-4848-adc8-f2017de5dc08",
   "metadata": {},
   "outputs": [],
   "source": [
    "X=df.drop(columns=['math score'],axis=1) # segregating the x and y "
   ]
  },
  {
   "cell_type": "code",
   "execution_count": 7,
   "id": "5a79abf3-20cf-4057-8746-21ca87974894",
   "metadata": {},
   "outputs": [
    {
     "data": {
      "text/html": [
       "<div>\n",
       "<style scoped>\n",
       "    .dataframe tbody tr th:only-of-type {\n",
       "        vertical-align: middle;\n",
       "    }\n",
       "\n",
       "    .dataframe tbody tr th {\n",
       "        vertical-align: top;\n",
       "    }\n",
       "\n",
       "    .dataframe thead th {\n",
       "        text-align: right;\n",
       "    }\n",
       "</style>\n",
       "<table border=\"1\" class=\"dataframe\">\n",
       "  <thead>\n",
       "    <tr style=\"text-align: right;\">\n",
       "      <th></th>\n",
       "      <th>gender</th>\n",
       "      <th>race/ethnicity</th>\n",
       "      <th>parental level of education</th>\n",
       "      <th>lunch</th>\n",
       "      <th>test preparation course</th>\n",
       "      <th>reading score</th>\n",
       "      <th>writing score</th>\n",
       "    </tr>\n",
       "  </thead>\n",
       "  <tbody>\n",
       "    <tr>\n",
       "      <th>0</th>\n",
       "      <td>female</td>\n",
       "      <td>group B</td>\n",
       "      <td>bachelor's degree</td>\n",
       "      <td>standard</td>\n",
       "      <td>none</td>\n",
       "      <td>72</td>\n",
       "      <td>74</td>\n",
       "    </tr>\n",
       "    <tr>\n",
       "      <th>1</th>\n",
       "      <td>female</td>\n",
       "      <td>group C</td>\n",
       "      <td>some college</td>\n",
       "      <td>standard</td>\n",
       "      <td>completed</td>\n",
       "      <td>90</td>\n",
       "      <td>88</td>\n",
       "    </tr>\n",
       "    <tr>\n",
       "      <th>2</th>\n",
       "      <td>female</td>\n",
       "      <td>group B</td>\n",
       "      <td>master's degree</td>\n",
       "      <td>standard</td>\n",
       "      <td>none</td>\n",
       "      <td>95</td>\n",
       "      <td>93</td>\n",
       "    </tr>\n",
       "    <tr>\n",
       "      <th>3</th>\n",
       "      <td>male</td>\n",
       "      <td>group A</td>\n",
       "      <td>associate's degree</td>\n",
       "      <td>free/reduced</td>\n",
       "      <td>none</td>\n",
       "      <td>57</td>\n",
       "      <td>44</td>\n",
       "    </tr>\n",
       "    <tr>\n",
       "      <th>4</th>\n",
       "      <td>male</td>\n",
       "      <td>group C</td>\n",
       "      <td>some college</td>\n",
       "      <td>standard</td>\n",
       "      <td>none</td>\n",
       "      <td>78</td>\n",
       "      <td>75</td>\n",
       "    </tr>\n",
       "  </tbody>\n",
       "</table>\n",
       "</div>"
      ],
      "text/plain": [
       "   gender race/ethnicity parental level of education         lunch  \\\n",
       "0  female        group B           bachelor's degree      standard   \n",
       "1  female        group C                some college      standard   \n",
       "2  female        group B             master's degree      standard   \n",
       "3    male        group A          associate's degree  free/reduced   \n",
       "4    male        group C                some college      standard   \n",
       "\n",
       "  test preparation course  reading score  writing score  \n",
       "0                    none             72             74  \n",
       "1               completed             90             88  \n",
       "2                    none             95             93  \n",
       "3                    none             57             44  \n",
       "4                    none             78             75  "
      ]
     },
     "execution_count": 7,
     "metadata": {},
     "output_type": "execute_result"
    }
   ],
   "source": [
    "X.head()"
   ]
  },
  {
   "cell_type": "code",
   "execution_count": 8,
   "id": "08e02cb9-25b4-4af2-a391-d331c683552a",
   "metadata": {},
   "outputs": [
    {
     "data": {
      "text/plain": [
       "0      72\n",
       "1      69\n",
       "2      90\n",
       "3      47\n",
       "4      76\n",
       "       ..\n",
       "995    88\n",
       "996    62\n",
       "997    59\n",
       "998    68\n",
       "999    77\n",
       "Name: math score, Length: 1000, dtype: int64"
      ]
     },
     "execution_count": 8,
     "metadata": {},
     "output_type": "execute_result"
    }
   ],
   "source": [
    "Y=df[\"math score\"]\n",
    "Y"
   ]
  },
  {
   "cell_type": "code",
   "execution_count": 9,
   "id": "46f76f7b-1606-47c1-9f01-9cffd5de5aa5",
   "metadata": {},
   "outputs": [
    {
     "name": "stdout",
     "output_type": "stream",
     "text": [
      "Categories in 'gender' variable:  ['female' 'male']\n",
      "Categories in 'race/ethnicity' variable:  ['group B' 'group C' 'group A' 'group D' 'group E']\n",
      "Categories in 'parental level of education' variable: [\"bachelor's degree\" 'some college' \"master's degree\" \"associate's degree\"\n",
      " 'high school' 'some high school']\n",
      "Categories in 'lunch' variable:  ['standard' 'free/reduced']\n",
      "Categories in 'test preparation course' variable:  ['none' 'completed']\n"
     ]
    }
   ],
   "source": [
    "print(\"Categories in 'gender' variable: \", end=\" \")\n",
    "print(df['gender'].unique())\n",
    "\n",
    "print(\"Categories in 'race/ethnicity' variable: \", end=\" \")\n",
    "print(df['race/ethnicity'].unique())\n",
    "\n",
    "print(\"Categories in 'parental level of education' variable:\", end=\" \")\n",
    "print(df['parental level of education'].unique())\n",
    "\n",
    "print(\"Categories in 'lunch' variable: \", end=\" \")\n",
    "print(df['lunch'].unique())\n",
    "\n",
    "print(\"Categories in 'test preparation course' variable: \", end=\" \")\n",
    "print(df['test preparation course'].unique())\n"
   ]
  },
  {
   "cell_type": "code",
   "execution_count": 11,
   "id": "9da1772a-4a5f-4ede-960c-2fdf7f3095cd",
   "metadata": {},
   "outputs": [
    {
     "data": {
      "text/plain": [
       "0      72\n",
       "1      69\n",
       "2      90\n",
       "3      47\n",
       "4      76\n",
       "       ..\n",
       "995    88\n",
       "996    62\n",
       "997    59\n",
       "998    68\n",
       "999    77\n",
       "Name: math score, Length: 1000, dtype: int64"
      ]
     },
     "execution_count": 11,
     "metadata": {},
     "output_type": "execute_result"
    }
   ],
   "source": [
    "y=df['math score']\n",
    "y"
   ]
  },
  {
   "cell_type": "code",
   "execution_count": 12,
   "id": "6f03a847-327d-4b30-86d0-babe26b1bfb5",
   "metadata": {},
   "outputs": [],
   "source": [
    "# preprocessing steps for ml pipelining\n",
    "num_cols = X.select_dtypes(exclude=\"object\").columns\n",
    "cat_cols = X.select_dtypes(include=\"object\").columns\n",
    "\n",
    "from sklearn.preprocessing import OneHotEncoder, StandardScaler\n",
    "from sklearn.compose import ColumnTransformer\n",
    "\n",
    "num_trans = StandardScaler()\n",
    "oh_tran = OneHotEncoder()\n",
    "\n",
    "preprocessor = ColumnTransformer(\n",
    "    [\n",
    "        (\"OneHotEncoder\", oh_tran, cat_cols),\n",
    "        (\"StandardScaler\", num_trans, num_cols),\n",
    "    ]\n",
    ")"
   ]
  },
  {
   "cell_type": "code",
   "execution_count": 23,
   "id": "4f742237-b69b-480a-8795-103f84d72978",
   "metadata": {},
   "outputs": [],
   "source": [
    "x = preprocessor.fit_transform(X)\n",
    "\n",
    "x.shape\n",
    "# Output: (1000, 19)\n",
    "\n",
    "# Separating Train and Test for the data:\n",
    "from sklearn.model_selection import train_test_split\n",
    "\n",
    "x_train, x_test, y_train, y_test = train_test_split(x, y, test_size=0.2, random_state=23)\n",
    "\n",
    "# Creating an evaluate function to give all metrics after model training:\n",
    "# def evaluate_model(true, predicted):\n",
    "#     mae = mean_absolute_error(true, predicted)\n",
    "#     mse = mean_squared_error(true, predicted)\n",
    "#     rmse = np.sqrt(mean_squared_error(true, predicted))\n",
    "#     r2 = r2_score(true, predicted)\n",
    "#     return mae, mse, rmse, r2\n",
    "def evaluate_model(y_true, y_pred):\n",
    "    mae = mean_absolute_error(y_true, y_pred)\n",
    "    rmse = root_mean_squared_error(y_true, y_pred)\n",
    "    r2 = r2_score(y_true, y_pred)\n",
    "    return mae, rmse, r2 "
   ]
  },
  {
   "cell_type": "code",
   "execution_count": 25,
   "id": "5b310243-89a5-413f-94b4-bc9a63af535f",
   "metadata": {},
   "outputs": [
    {
     "name": "stdout",
     "output_type": "stream",
     "text": [
      "Model: LR\n",
      "Model performance for Training set\n",
      "- Root Mean Squared Error: 5.2657\n",
      "- Mean Absolute Error: 4.1785\n",
      "- R2 Score: 0.8812\n",
      "----------------------------------------\n",
      "Model performance for Test set\n",
      "- Root Mean Squared Error: 5.6404\n",
      "- Mean Absolute Error: 4.5874\n",
      "- R2 Score: 0.8514\n",
      "===================================\n",
      "\n",
      "\n",
      "Model: Lasso\n",
      "Model performance for Training set\n",
      "- Root Mean Squared Error: 6.5500\n",
      "- Mean Absolute Error: 5.1997\n",
      "- R2 Score: 0.8162\n",
      "----------------------------------------\n",
      "Model performance for Test set\n",
      "- Root Mean Squared Error: 6.5967\n",
      "- Mean Absolute Error: 5.1005\n",
      "- R2 Score: 0.7967\n",
      "===================================\n",
      "\n",
      "\n",
      "Model: Ridge\n",
      "Model performance for Training set\n",
      "- Root Mean Squared Error: 5.2594\n",
      "- Mean Absolute Error: 4.1672\n",
      "- R2 Score: 0.8815\n",
      "----------------------------------------\n",
      "Model performance for Test set\n",
      "- Root Mean Squared Error: 5.6191\n",
      "- Mean Absolute Error: 4.5672\n",
      "- R2 Score: 0.8525\n",
      "===================================\n",
      "\n",
      "\n",
      "Model: KNN\n",
      "Model performance for Training set\n",
      "- Root Mean Squared Error: 5.7673\n",
      "- Mean Absolute Error: 4.5682\n",
      "- R2 Score: 0.8575\n",
      "----------------------------------------\n",
      "Model performance for Test set\n",
      "- Root Mean Squared Error: 7.1230\n",
      "- Mean Absolute Error: 5.7290\n",
      "- R2 Score: 0.7630\n",
      "===================================\n",
      "\n",
      "\n",
      "Model: DT\n",
      "Model performance for Training set\n",
      "- Root Mean Squared Error: 0.1250\n",
      "- Mean Absolute Error: 0.0063\n",
      "- R2 Score: 0.9999\n",
      "----------------------------------------\n",
      "Model performance for Test set\n",
      "- Root Mean Squared Error: 8.5881\n",
      "- Mean Absolute Error: 6.9950\n",
      "- R2 Score: 0.6555\n",
      "===================================\n",
      "\n",
      "\n",
      "Model: RF\n",
      "Model performance for Training set\n",
      "- Root Mean Squared Error: 2.2067\n",
      "- Mean Absolute Error: 1.7394\n",
      "- R2 Score: 0.9791\n",
      "----------------------------------------\n",
      "Model performance for Test set\n",
      "- Root Mean Squared Error: 6.5525\n",
      "- Mean Absolute Error: 5.2262\n",
      "- R2 Score: 0.7995\n",
      "===================================\n",
      "\n",
      "\n",
      "Model List: ['LR', 'Lasso', 'Ridge', 'KNN', 'DT', 'RF']\n",
      "R2 Scores: [0.8513947895885827, 0.7967340452653378, 0.852517117799698, 0.7630039362483774, 0.6554906858003121, 0.7994519800585835]\n"
     ]
    }
   ],
   "source": [
    "from sklearn.linear_model import LinearRegression, Lasso, Ridge\n",
    "from sklearn.neighbors import KNeighborsRegressor\n",
    "from sklearn.tree import DecisionTreeRegressor\n",
    "from sklearn.ensemble import RandomForestRegressor\n",
    "\n",
    "# Dictionary of models\n",
    "models = {\n",
    "    \"LR\": LinearRegression(),\n",
    "    \"Lasso\": Lasso(),\n",
    "    \"Ridge\": Ridge(),\n",
    "    \"KNN\": KNeighborsRegressor(),\n",
    "    \"DT\": DecisionTreeRegressor(),\n",
    "    \"RF\": RandomForestRegressor()\n",
    "}\n",
    "model_list = []\n",
    "r2_list = []\n",
    "\n",
    "# Iterate over models\n",
    "for name, model in models.items():  #  Iterate correctly\n",
    "    model.fit(x_train, y_train)  # Train model\n",
    "\n",
    "    #predictions\n",
    "    y_train_pred = model.predict(x_train)\n",
    "    y_test_pred = model.predict(x_test)\n",
    "\n",
    "    # Evaluate the model\n",
    "    model_train_mae, model_train_rmse, model_train_r2 = evaluate_model(y_train, y_train_pred)\n",
    "    model_test_mae, model_test_rmse, model_test_r2 = evaluate_model(y_test, y_test_pred)\n",
    "\n",
    "    # Store model name\n",
    "    model_list.append(name) \n",
    "\n",
    "    print(f\"Model: {name}\") \n",
    "    print(\"Model performance for Training set\")\n",
    "    print(f\"- Root Mean Squared Error: {model_train_rmse:.4f}\")\n",
    "    print(f\"- Mean Absolute Error: {model_train_mae:.4f}\")\n",
    "    print(f\"- R2 Score: {model_train_r2:.4f}\")\n",
    "\n",
    "    print(\"-\" * 40)\n",
    "\n",
    "    print(\"Model performance for Test set\")\n",
    "    print(f\"- Root Mean Squared Error: {model_test_rmse:.4f}\")\n",
    "    print(f\"- Mean Absolute Error: {model_test_mae:.4f}\")\n",
    "    print(f\"- R2 Score: {model_test_r2:.4f}\")\n",
    "\n",
    "    r2_list.append(model_test_r2) \n",
    "\n",
    "    print(\"=\" * 35)\n",
    "    print(\"\\n\")\n",
    "\n",
    "# Rechecking the models name\n",
    "print(\"Model List:\", model_list)\n",
    "print(\"R2 Scores:\", r2_list)\n"
   ]
  },
  {
   "cell_type": "code",
   "execution_count": 26,
   "id": "816cb81c-55cc-4425-8ed4-376cdac1046a",
   "metadata": {},
   "outputs": [
    {
     "data": {
      "text/html": [
       "<div>\n",
       "<style scoped>\n",
       "    .dataframe tbody tr th:only-of-type {\n",
       "        vertical-align: middle;\n",
       "    }\n",
       "\n",
       "    .dataframe tbody tr th {\n",
       "        vertical-align: top;\n",
       "    }\n",
       "\n",
       "    .dataframe thead th {\n",
       "        text-align: right;\n",
       "    }\n",
       "</style>\n",
       "<table border=\"1\" class=\"dataframe\">\n",
       "  <thead>\n",
       "    <tr style=\"text-align: right;\">\n",
       "      <th></th>\n",
       "      <th>Model Name</th>\n",
       "      <th>R2_Score</th>\n",
       "    </tr>\n",
       "  </thead>\n",
       "  <tbody>\n",
       "    <tr>\n",
       "      <th>2</th>\n",
       "      <td>Ridge</td>\n",
       "      <td>0.852517</td>\n",
       "    </tr>\n",
       "    <tr>\n",
       "      <th>0</th>\n",
       "      <td>LR</td>\n",
       "      <td>0.851395</td>\n",
       "    </tr>\n",
       "    <tr>\n",
       "      <th>5</th>\n",
       "      <td>RF</td>\n",
       "      <td>0.799452</td>\n",
       "    </tr>\n",
       "    <tr>\n",
       "      <th>1</th>\n",
       "      <td>Lasso</td>\n",
       "      <td>0.796734</td>\n",
       "    </tr>\n",
       "    <tr>\n",
       "      <th>3</th>\n",
       "      <td>KNN</td>\n",
       "      <td>0.763004</td>\n",
       "    </tr>\n",
       "    <tr>\n",
       "      <th>4</th>\n",
       "      <td>DT</td>\n",
       "      <td>0.655491</td>\n",
       "    </tr>\n",
       "  </tbody>\n",
       "</table>\n",
       "</div>"
      ],
      "text/plain": [
       "  Model Name  R2_Score\n",
       "2      Ridge  0.852517\n",
       "0         LR  0.851395\n",
       "5         RF  0.799452\n",
       "1      Lasso  0.796734\n",
       "3        KNN  0.763004\n",
       "4         DT  0.655491"
      ]
     },
     "execution_count": 26,
     "metadata": {},
     "output_type": "execute_result"
    }
   ],
   "source": [
    "pd.DataFrame(list(zip(model_list, r2_list)),columns=['Model Name', 'R2_Score']).sort_values(by=[\"R2_Score\"], ascending=False)  # Sort in descending order\n"
   ]
  },
  {
   "cell_type": "code",
   "execution_count": 27,
   "id": "dad3edda-78af-4f6a-abb7-8cf3f914c594",
   "metadata": {},
   "outputs": [
    {
     "name": "stdout",
     "output_type": "stream",
     "text": [
      "['LR', 'Lasso', 'Ridge', 'KNN', 'DT', 'RF']\n"
     ]
    },
    {
     "data": {
      "text/plain": [
       "(None, 6)"
      ]
     },
     "execution_count": 27,
     "metadata": {},
     "output_type": "execute_result"
    }
   ],
   "source": [
    "print(model_list), len(r2_list)"
   ]
  },
  {
   "cell_type": "code",
   "execution_count": 31,
   "id": "1deb49a3-84a9-46d0-afd9-7e92a8512f25",
   "metadata": {},
   "outputs": [
    {
     "name": "stdout",
     "output_type": "stream",
     "text": [
      "Accuracy of the model is 85.14\n"
     ]
    },
    {
     "data": {
      "image/png": "[encoded data removed]",
      "text/plain": [
       "<Figure size 640x480 with 1 Axes>"
      ]
     },
     "metadata": {},
     "output_type": "display_data"
    }
   ],
   "source": [
    "# Train Linear Regression Model\n",
    "lin_model = LinearRegression(fit_intercept=True)\n",
    "lin_model.fit(x_train, y_train)\n",
    "y_pred = lin_model.predict(x_test)\n",
    "\n",
    "# Compute Accuracy\n",
    "score = lin_model.score(x_test, y_test) * 100  # More direct method\n",
    "print(f\"Accuracy of the model is {score:.2f}\")\n",
    "\n",
    "# Plot y_test vs y_pred\n",
    "mtplt.scatter(y_test, y_pred)\n",
    "mtplt.xlabel('Actual')\n",
    "mtplt.ylabel('Predicted')\n",
    "mtplt.title('Actual vs Predicted Values')\n",
    "mtplt.show()\n"
   ]
  },
  {
   "cell_type": "code",
   "execution_count": 33,
   "id": "e5a2fe02-f6df-41c7-90e9-5f0314932c7b",
   "metadata": {
    "scrolled": true
   },
   "outputs": [
    {
     "ename": "ValueError",
     "evalue": "all the input array dimensions except for the concatenation axis must match exactly, but along dimension 0, the array at index 0 has size 3800 and the array at index 1 has size 200",
     "output_type": "error",
     "traceback": [
      "\u001b[0;31m---------------------------------------------------------------------------\u001b[0m",
      "\u001b[0;31mValueError\u001b[0m                                Traceback (most recent call last)",
      "Cell \u001b[0;32mIn[33], line 3\u001b[0m\n\u001b[1;32m      1\u001b[0m x_test_1d \u001b[38;5;241m=\u001b[39m x_test\u001b[38;5;241m.\u001b[39mravel() \n\u001b[1;32m      2\u001b[0m y_pred_1d \u001b[38;5;241m=\u001b[39m y_pred\u001b[38;5;241m.\u001b[39mravel() \n\u001b[0;32m----> 3\u001b[0m sb\u001b[38;5;241m.\u001b[39mregplot(x\u001b[38;5;241m=\u001b[39mx_test_1d,y\u001b[38;5;241m=\u001b[39my_pred_1d,ci\u001b[38;5;241m=\u001b[39m\u001b[38;5;28;01mNone\u001b[39;00m,color\u001b[38;5;241m=\u001b[39m\u001b[38;5;124m'\u001b[39m\u001b[38;5;124mred\u001b[39m\u001b[38;5;124m'\u001b[39m)\n",
      "File \u001b[0;32m/opt/anaconda3/lib/python3.12/site-packages/seaborn/regression.py:763\u001b[0m, in \u001b[0;36mregplot\u001b[0;34m(data, x, y, x_estimator, x_bins, x_ci, scatter, fit_reg, ci, n_boot, units, seed, order, logistic, lowess, robust, logx, x_partial, y_partial, truncate, dropna, x_jitter, y_jitter, label, color, marker, scatter_kws, line_kws, ax)\u001b[0m\n\u001b[1;32m    752\u001b[0m \u001b[38;5;28;01mdef\u001b[39;00m \u001b[38;5;21mregplot\u001b[39m(\n\u001b[1;32m    753\u001b[0m     data\u001b[38;5;241m=\u001b[39m\u001b[38;5;28;01mNone\u001b[39;00m, \u001b[38;5;241m*\u001b[39m, x\u001b[38;5;241m=\u001b[39m\u001b[38;5;28;01mNone\u001b[39;00m, y\u001b[38;5;241m=\u001b[39m\u001b[38;5;28;01mNone\u001b[39;00m,\n\u001b[1;32m    754\u001b[0m     x_estimator\u001b[38;5;241m=\u001b[39m\u001b[38;5;28;01mNone\u001b[39;00m, x_bins\u001b[38;5;241m=\u001b[39m\u001b[38;5;28;01mNone\u001b[39;00m, x_ci\u001b[38;5;241m=\u001b[39m\u001b[38;5;124m\"\u001b[39m\u001b[38;5;124mci\u001b[39m\u001b[38;5;124m\"\u001b[39m,\n\u001b[0;32m   (...)\u001b[0m\n\u001b[1;32m    760\u001b[0m     scatter_kws\u001b[38;5;241m=\u001b[39m\u001b[38;5;28;01mNone\u001b[39;00m, line_kws\u001b[38;5;241m=\u001b[39m\u001b[38;5;28;01mNone\u001b[39;00m, ax\u001b[38;5;241m=\u001b[39m\u001b[38;5;28;01mNone\u001b[39;00m\n\u001b[1;32m    761\u001b[0m ):\n\u001b[0;32m--> 763\u001b[0m     plotter \u001b[38;5;241m=\u001b[39m _RegressionPlotter(x, y, data, x_estimator, x_bins, x_ci,\n\u001b[1;32m    764\u001b[0m                                  scatter, fit_reg, ci, n_boot, units, seed,\n\u001b[1;32m    765\u001b[0m                                  order, logistic, lowess, robust, logx,\n\u001b[1;32m    766\u001b[0m                                  x_partial, y_partial, truncate, dropna,\n\u001b[1;32m    767\u001b[0m                                  x_jitter, y_jitter, color, label)\n\u001b[1;32m    769\u001b[0m     \u001b[38;5;28;01mif\u001b[39;00m ax \u001b[38;5;129;01mis\u001b[39;00m \u001b[38;5;28;01mNone\u001b[39;00m:\n\u001b[1;32m    770\u001b[0m         ax \u001b[38;5;241m=\u001b[39m plt\u001b[38;5;241m.\u001b[39mgca()\n",
      "File \u001b[0;32m/opt/anaconda3/lib/python3.12/site-packages/seaborn/regression.py:112\u001b[0m, in \u001b[0;36m_RegressionPlotter.__init__\u001b[0;34m(self, x, y, data, x_estimator, x_bins, x_ci, scatter, fit_reg, ci, n_boot, units, seed, order, logistic, lowess, robust, logx, x_partial, y_partial, truncate, dropna, x_jitter, y_jitter, color, label)\u001b[0m\n\u001b[1;32m    110\u001b[0m \u001b[38;5;66;03m# Drop null observations\u001b[39;00m\n\u001b[1;32m    111\u001b[0m \u001b[38;5;28;01mif\u001b[39;00m dropna:\n\u001b[0;32m--> 112\u001b[0m     \u001b[38;5;28mself\u001b[39m\u001b[38;5;241m.\u001b[39mdropna(\u001b[38;5;124m\"\u001b[39m\u001b[38;5;124mx\u001b[39m\u001b[38;5;124m\"\u001b[39m, \u001b[38;5;124m\"\u001b[39m\u001b[38;5;124my\u001b[39m\u001b[38;5;124m\"\u001b[39m, \u001b[38;5;124m\"\u001b[39m\u001b[38;5;124munits\u001b[39m\u001b[38;5;124m\"\u001b[39m, \u001b[38;5;124m\"\u001b[39m\u001b[38;5;124mx_partial\u001b[39m\u001b[38;5;124m\"\u001b[39m, \u001b[38;5;124m\"\u001b[39m\u001b[38;5;124my_partial\u001b[39m\u001b[38;5;124m\"\u001b[39m)\n\u001b[1;32m    114\u001b[0m \u001b[38;5;66;03m# Regress nuisance variables out of the data\u001b[39;00m\n\u001b[1;32m    115\u001b[0m \u001b[38;5;28;01mif\u001b[39;00m \u001b[38;5;28mself\u001b[39m\u001b[38;5;241m.\u001b[39mx_partial \u001b[38;5;129;01mis\u001b[39;00m \u001b[38;5;129;01mnot\u001b[39;00m \u001b[38;5;28;01mNone\u001b[39;00m:\n",
      "File \u001b[0;32m/opt/anaconda3/lib/python3.12/site-packages/seaborn/regression.py:60\u001b[0m, in \u001b[0;36m_LinearPlotter.dropna\u001b[0;34m(self, *vars)\u001b[0m\n\u001b[1;32m     58\u001b[0m vals \u001b[38;5;241m=\u001b[39m [\u001b[38;5;28mgetattr\u001b[39m(\u001b[38;5;28mself\u001b[39m, var) \u001b[38;5;28;01mfor\u001b[39;00m var \u001b[38;5;129;01min\u001b[39;00m \u001b[38;5;28mvars\u001b[39m]\n\u001b[1;32m     59\u001b[0m vals \u001b[38;5;241m=\u001b[39m [v \u001b[38;5;28;01mfor\u001b[39;00m v \u001b[38;5;129;01min\u001b[39;00m vals \u001b[38;5;28;01mif\u001b[39;00m v \u001b[38;5;129;01mis\u001b[39;00m \u001b[38;5;129;01mnot\u001b[39;00m \u001b[38;5;28;01mNone\u001b[39;00m]\n\u001b[0;32m---> 60\u001b[0m not_na \u001b[38;5;241m=\u001b[39m np\u001b[38;5;241m.\u001b[39mall(np\u001b[38;5;241m.\u001b[39mcolumn_stack([pd\u001b[38;5;241m.\u001b[39mnotnull(v) \u001b[38;5;28;01mfor\u001b[39;00m v \u001b[38;5;129;01min\u001b[39;00m vals]), axis\u001b[38;5;241m=\u001b[39m\u001b[38;5;241m1\u001b[39m)\n\u001b[1;32m     61\u001b[0m \u001b[38;5;28;01mfor\u001b[39;00m var \u001b[38;5;129;01min\u001b[39;00m \u001b[38;5;28mvars\u001b[39m:\n\u001b[1;32m     62\u001b[0m     val \u001b[38;5;241m=\u001b[39m \u001b[38;5;28mgetattr\u001b[39m(\u001b[38;5;28mself\u001b[39m, var)\n",
      "File \u001b[0;32m/opt/anaconda3/lib/python3.12/site-packages/numpy/lib/shape_base.py:652\u001b[0m, in \u001b[0;36mcolumn_stack\u001b[0;34m(tup)\u001b[0m\n\u001b[1;32m    650\u001b[0m         arr \u001b[38;5;241m=\u001b[39m array(arr, copy\u001b[38;5;241m=\u001b[39m\u001b[38;5;28;01mFalse\u001b[39;00m, subok\u001b[38;5;241m=\u001b[39m\u001b[38;5;28;01mTrue\u001b[39;00m, ndmin\u001b[38;5;241m=\u001b[39m\u001b[38;5;241m2\u001b[39m)\u001b[38;5;241m.\u001b[39mT\n\u001b[1;32m    651\u001b[0m     arrays\u001b[38;5;241m.\u001b[39mappend(arr)\n\u001b[0;32m--> 652\u001b[0m \u001b[38;5;28;01mreturn\u001b[39;00m _nx\u001b[38;5;241m.\u001b[39mconcatenate(arrays, \u001b[38;5;241m1\u001b[39m)\n",
      "\u001b[0;31mValueError\u001b[0m: all the input array dimensions except for the concatenation axis must match exactly, but along dimension 0, the array at index 0 has size 3800 and the array at index 1 has size 200"
     ]
    }
   ],
   "source": [
    "x_test_1d = x_test.ravel() \n",
    "y_pred_1d = y_pred.ravel() \n",
    "sb.regplot(x=x_test_1d,y=y_pred_1d,ci=None,color='red');"
   ]
  },
  {
   "cell_type": "code",
   "execution_count": null,
   "id": "5469878b-6fc2-40e4-b668-26863f8acd5f",
   "metadata": {},
   "outputs": [],
   "source": [
    "print(\"Shape of x_test:\", x_test.shape)\n",
    "print(\"Shape of y_pred:\", y_pred.shape)\n"
   ]
  },
  {
   "cell_type": "code",
   "execution_count": null,
   "id": "f44e8d68-bddc-45d3-aa00-d98b0f35a12f",
   "metadata": {},
   "outputs": [],
   "source": [
    "x_test_1d = x_test[:, 0]  # Selecting the first feature\n",
    "y_pred_1d = y_pred.ravel()\n",
    "\n",
    "sb.regplot(x=x_test_1d, y=y_pred_1d, ci=None, color='red')\n"
   ]
  },
  {
   "cell_type": "code",
   "execution_count": 37,
   "id": "92d10dce-c7d1-45a7-8cb2-d9cc87ddf3d6",
   "metadata": {},
   "outputs": [
    {
     "data": {
      "text/plain": [
       "<Axes: >"
      ]
     },
     "execution_count": 37,
     "metadata": {},
     "output_type": "execute_result"
    },
    {
     "data": {
      "image/png": "[encoded data removed]",
      "text/plain": [
       "<Figure size 640x480 with 1 Axes>"
      ]
     },
     "metadata": {},
     "output_type": "display_data"
    }
   ],
   "source": [
    "x_test_1d = x_test.mean(axis=1)\n",
    "y_pred_1d = y_pred.ravel()\n",
    "\n",
    "sb.regplot(x=x_test_1d, y=y_pred_1d, ci=None, color='red')\n"
   ]
  },
  {
   "cell_type": "code",
   "execution_count": 39,
   "id": "ef833802-4f77-40f6-a44c-ddf7e56a7a7c",
   "metadata": {},
   "outputs": [
    {
     "data": {
      "text/plain": [
       "<Axes: >"
      ]
     },
     "execution_count": 39,
     "metadata": {},
     "output_type": "execute_result"
    },
    {
     "data": {
      "image/png": "[encoded data removed]",
      "text/plain": [
       "<Figure size 640x480 with 1 Axes>"
      ]
     },
     "metadata": {},
     "output_type": "display_data"
    }
   ],
   "source": [
    "from sklearn.decomposition import PCA\n",
    "\n",
    "pca = PCA(n_components=1)\n",
    "x_test_1d = pca.fit_transform(x_test).ravel()\n",
    "\n",
    "sb.regplot(x=x_test_1d, y=y_pred, ci=None, color='red')\n"
   ]
  },
  {
   "cell_type": "code",
   "execution_count": 41,
   "id": "faf10eba-2b6b-4ab7-9b34-63b8b6685e22",
   "metadata": {},
   "outputs": [
    {
     "name": "stdout",
     "output_type": "stream",
     "text": [
      "Requirement already satisfied: hmmlearn in /opt/anaconda3/lib/python3.12/site-packages (0.3.3)\n",
      "Requirement already satisfied: numpy>=1.10 in /opt/anaconda3/lib/python3.12/site-packages (from hmmlearn) (1.26.4)\n",
      "Requirement already satisfied: scikit-learn!=0.22.0,>=0.16 in /opt/anaconda3/lib/python3.12/site-packages (from hmmlearn) (1.5.1)\n",
      "Requirement already satisfied: scipy>=0.19 in /opt/anaconda3/lib/python3.12/site-packages (from hmmlearn) (1.13.1)\n",
      "Requirement already satisfied: joblib>=1.2.0 in /opt/anaconda3/lib/python3.12/site-packages (from scikit-learn!=0.22.0,>=0.16->hmmlearn) (1.4.2)\n",
      "Requirement already satisfied: threadpoolctl>=3.1.0 in /opt/anaconda3/lib/python3.12/site-packages (from scikit-learn!=0.22.0,>=0.16->hmmlearn) (3.5.0)\n",
      "Note: you may need to restart the kernel to use updated packages.\n"
     ]
    }
   ],
   "source": [
    "pip install hmmlearn"
   ]
  },
  {
   "cell_type": "markdown",
   "id": "b00ad49b-50dc-43ba-8364-130c53503148",
   "metadata": {},
   "source": [
    "## Now lets apply Hidden Markov model and use it to predit the future sequence for x_test\n"
   ]
  },
  {
   "cell_type": "code",
   "execution_count": 43,
   "id": "322ca763-9634-4850-8192-2a2140cf6d81",
   "metadata": {},
   "outputs": [
    {
     "name": "stdout",
     "output_type": "stream",
     "text": [
      "Predicted Hidden States: [1 2 0 0 2 1 0 1 2 0 2 1 0 1 0 0 2 2 1 1 0 1 1 0 0 1 0 0 2 2 2 0 1 0 2 0 2\n",
      " 0 1 2 0 0 2 0 1 2 0 0 1 1 2 0 0 1 0 2 1 0 0 1 2 2 1 1 0 2 2 0 0 1 0 0 0 2\n",
      " 0 2 0 2 0 2 2 1 2 0 2 2 1 2 0 0 2 1 2 1 1 0 2 0 2 1 2 0 2 0 0 1 0 1 0 0 0\n",
      " 1 2 1 2 2 0 0 2 2 2 0 1 0 2 0 1 2 2 2 2 0 0 2 0 0 2 0 2 2 0 2 0 0 0 0 0 2\n",
      " 2 0 2 0 1 0 1 0 1 1 1 1 1 0 1 0 1 0 1 2 2 0 0 0 1 0 0 1 0 0 2 2 1 2 1 1 2\n",
      " 1 0 1 1 0 2 2 2 0 1 0 0 1 2 0]\n"
     ]
    }
   ],
   "source": [
    "import numpy as np\n",
    "from hmmlearn import hmm\n",
    "\n",
    "# Ensure x_test is a NumPy array\n",
    "X = np.array(x_test)  # Shape: (n_samples, n_features)\n",
    "\n",
    "# Define HMM model with Gaussian emissions\n",
    "hmm_model = hmm.GaussianHMM(n_components=3, covariance_type=\"diag\", n_iter=100)\n",
    "\n",
    "# Fit HMM model to x_test\n",
    "hmm_model.fit(X)\n",
    "\n",
    "# Predict hidden states\n",
    "hidden_states = hmm_model.predict(X)\n",
    "\n",
    "print(\"Predicted Hidden States:\", hidden_states)"
   ]
  },
  {
   "cell_type": "code",
   "execution_count": 44,
   "id": "62974fcf-8c05-42fb-b1c3-2c7e4d6b48a2",
   "metadata": {},
   "outputs": [
    {
     "name": "stdout",
     "output_type": "stream",
     "text": [
      "Generated Future States: [[ 3.04530082e-02  3.41815717e-01  2.57905927e-01  3.29317225e-01\n",
      "   1.39193202e+00 -6.91950714e-01  2.62335590e-01 -2.65894617e-01\n",
      "   3.24524620e-01  7.64721213e-01 -3.03192954e-01  2.68301294e-01\n",
      "  -5.13315451e-03  3.77109368e-01  6.47757616e-01  9.95358333e-01\n",
      "  -2.76707007e-02  3.15070531e-01  1.27902274e+00]\n",
      " [ 7.35868980e-01  1.79185395e-01  2.59502392e-01  3.89455362e-01\n",
      "  -2.20305637e-02  8.86927821e-01  2.37333341e-01  1.87918149e-01\n",
      "   1.25804219e-01  1.16842430e-01  2.14066803e-01  7.26930866e-01\n",
      "  -2.42832555e-03 -5.96748131e-01 -5.24074910e-01  2.87812216e-03\n",
      "   9.98636492e-01  1.15443216e+00 -2.49001902e-01]\n",
      " [ 7.91593248e-01 -2.85100540e-01  1.16666478e+00 -1.10572701e-01\n",
      "   4.64498020e-01  4.38884973e-01  9.46331340e-03  1.52335386e-02\n",
      "   7.03422384e-03  1.23135401e+00 -1.69726451e-02 -3.51557694e-03\n",
      "   5.56789441e-01  3.79866799e-01  6.77029712e-01  1.08185914e+00\n",
      "   1.22229688e+00  1.12122222e-01 -5.16012589e-01]\n",
      " [ 3.97348451e-01  6.09314930e-01  2.91104902e-01  2.90586180e-01\n",
      "   2.92097379e-01  1.04509885e+00 -2.78582985e-02  1.28207629e+00\n",
      "   1.42773820e-01  2.43138492e-02 -6.78106888e-02 -9.64261266e-02\n",
      "   4.55491004e-03  8.12433780e-02  3.30877469e-01  1.00650906e+00\n",
      "  -3.12050654e-02  4.08246136e-02  2.06825817e-01]\n",
      " [ 7.57623764e-01  1.49039588e+00  1.23531048e-01  9.34662526e-02\n",
      "   2.73478326e-01  4.60826954e-01  5.08326747e-01  7.60558971e-01\n",
      "   3.58940686e-02 -5.68123568e-02 -5.08513640e-01  8.82625979e-02\n",
      "  -9.67577180e-03 -9.64987538e-04  1.89971272e+00  1.00915381e+00\n",
      "  -4.62950869e-02 -2.41544173e-01  9.36568077e-01]]\n"
     ]
    }
   ],
   "source": [
    "# Generate future sequence\n",
    "X_future, _ = hmm_model.sample(n_samples=5)  # Predict next 5 states\n",
    "\n",
    "print(\"Generated Future States:\", X_future)\n"
   ]
  },
  {
   "cell_type": "code",
   "execution_count": 45,
   "id": "5703afee-91ab-4f7a-9377-1ac2cf804594",
   "metadata": {},
   "outputs": [
    {
     "data": {
      "image/png": "[encoded data removed]",
      "text/plain": [
       "<Figure size 640x480 with 1 Axes>"
      ]
     },
     "metadata": {},
     "output_type": "display_data"
    }
   ],
   "source": [
    "import seaborn as sb\n",
    "import matplotlib.pyplot as plt\n",
    "\n",
    "# Plot x_test against predicted hidden states\n",
    "sb.scatterplot(x=X[:, 0], y=hidden_states, hue=hidden_states, palette=\"coolwarm\")\n",
    "plt.xlabel(\"Feature 1\")\n",
    "plt.ylabel(\"Hidden States\")\n",
    "plt.title(\"HMM State Predictions\")\n",
    "plt.show()\n"
   ]
  },
  {
   "cell_type": "code",
   "execution_count": null,
   "id": "eeaef1e2-5b51-4c67-9f3a-821619dba221",
   "metadata": {},
   "outputs": [],
   "source": []
  },
  {
   "cell_type": "code",
   "execution_count": null,
   "id": "a755edd9-6237-42c1-8116-2c3b1945dfe2",
   "metadata": {},
   "outputs": [],
   "source": []
  },
  {
   "cell_type": "code",
   "execution_count": null,
   "id": "be040b4b-a0cf-49c2-b122-24f348441d59",
   "metadata": {},
   "outputs": [],
   "source": []
  },
  {
   "cell_type": "code",
   "execution_count": null,
   "id": "a3c93c60-cb86-44cd-9c4b-7a22f6ad0835",
   "metadata": {},
   "outputs": [],
   "source": []
  }
 ],
 "metadata": {
  "kernelspec": {
   "display_name": "Python [conda env:base] *",
   "language": "python",
   "name": "conda-base-py"
  },
  "language_info": {
   "codemirror_mode": {
    "name": "ipython",
    "version": 3
   },
   "file_extension": ".py",
   "mimetype": "text/x-python",
   "name": "python",
   "nbconvert_exporter": "python",
   "pygments_lexer": "ipython3",
   "version": "3.12.7"
  }
 },
 "nbformat": 4,
 "nbformat_minor": 5
}
